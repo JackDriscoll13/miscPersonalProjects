{
 "cells": [
  {
   "cell_type": "code",
   "execution_count": 12,
   "metadata": {},
   "outputs": [
    {
     "data": {
      "text/plain": [
       "True"
      ]
     },
     "execution_count": 12,
     "metadata": {},
     "output_type": "execute_result"
    }
   ],
   "source": [
    "# Given a list, return true if it is a palindrome or false otherwise.\n",
    "\n",
    "def isPalindrome(head):\n",
    "\n",
    "    for i in range(0,len(head)):\n",
    "        if head[i] != head[(-1-i)]:\n",
    "            return False\n",
    "    return True \n",
    "\n",
    "isPalindrome([0,1,1,0])"
   ]
  },
  {
   "cell_type": "code",
   "execution_count": null,
   "metadata": {},
   "outputs": [],
   "source": [
    "# Given the head of a singly linked list, return true if it is a palindrome or false otherwise.\n"
   ]
  },
  {
   "cell_type": "code",
   "execution_count": 11,
   "metadata": {},
   "outputs": [
    {
     "data": {
      "text/plain": [
       "[4, 3, 2, 1]"
      ]
     },
     "execution_count": 11,
     "metadata": {},
     "output_type": "execute_result"
    }
   ],
   "source": [
    "# Reverse a list\n",
    "\n",
    "mylist = [1,2,3,4]\n",
    "revlist = mylist[::-1]\n",
    "revlist"
   ]
  },
  {
   "cell_type": "code",
   "execution_count": 26,
   "metadata": {},
   "outputs": [
    {
     "data": {
      "text/plain": [
       "True"
      ]
     },
     "execution_count": 26,
     "metadata": {},
     "output_type": "execute_result"
    }
   ],
   "source": [
    "# Given two strings ransomNote and magazine, return true if ransomNote can be constructed by using the letters from magazine and false otherwise.\n",
    "# Each letter in magazine can only be used once in ransomNo\n",
    "\n",
    "ransomnote = 'aabbbbb'\n",
    "magazine = 'aaabb'\n",
    "\n",
    "\n",
    "def canConstruct(magazine, ransomNote)\n",
    "\n",
    "    magazinelist = list(magazine)\n",
    "    for i in list(ransomNote):\n",
    "        if i in magazinelist:\n",
    "            magazinelist.remove(i)\n",
    "            return True\n",
    "        else:\n",
    "            return False\n",
    "            \n"
   ]
  },
  {
   "cell_type": "markdown",
   "metadata": {},
   "source": []
  }
 ],
 "metadata": {
  "kernelspec": {
   "display_name": "Python 3.9.13 64-bit (windows store)",
   "language": "python",
   "name": "python3"
  },
  "language_info": {
   "codemirror_mode": {
    "name": "ipython",
    "version": 3
   },
   "file_extension": ".py",
   "mimetype": "text/x-python",
   "name": "python",
   "nbconvert_exporter": "python",
   "pygments_lexer": "ipython3",
   "version": "3.9.13"
  },
  "orig_nbformat": 4,
  "vscode": {
   "interpreter": {
    "hash": "c2154bec843a099fe3d016b95ea2c28c2b633210b993f378182a012db661fcc2"
   }
  }
 },
 "nbformat": 4,
 "nbformat_minor": 2
}
